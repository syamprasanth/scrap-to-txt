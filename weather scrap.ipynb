{
 "cells": [
  {
   "cell_type": "code",
   "execution_count": 3,
   "metadata": {},
   "outputs": [
    {
     "name": "stdout",
     "output_type": "stream",
     "text": [
      "Enter the City:salem\n"
     ]
    }
   ],
   "source": [
    "# importing requests and json\n",
    "import requests, json\n",
    "# base URL\n",
    "BASE_URL = \"https://api.openweathermap.org/data/2.5/weather?\"\n",
    "# City Name CITY = \"Hyderabad\"\n",
    "API_KEY = \"c782113acba1a18cd94f4e261cc9c13f\"\n",
    "# upadting the URL\n",
    "CITY = input(\"Enter the City:\")\n",
    "URL = BASE_URL + \"q=\" + CITY + \"&appid=\" + API_KEY\n",
    "# HTTP request\n",
    "response = requests.get(URL)\n",
    "# checking the status code of the request\n",
    "if response.status_code == 200:\n",
    "   # getting data in the json format\n",
    "   data = response.json()\n",
    "   # getting the main dict block\n",
    "   main = data['main']\n",
    "   # getting temperature\n",
    "   temperature = main['temp']\n",
    "   # getting the humidity\n",
    "   humidity = main['humidity']\n",
    "   # getting the pressure\n",
    "   pressure = main['pressure']\n",
    "   # weather report\n",
    "   report = data['weather']\n",
    "   f= open(\"weatherreport.txt\",\"w+\")\n",
    "   f.write(f\"{CITY:-^30}\")\n",
    "   f.write(f\"Temperature: {temperature}\")\n",
    "   f.write(f\"Humidity: {humidity}\")\n",
    "   f.write(f\"Pressure: {pressure}\")\n",
    "   f.write(f\"Weather Report: {report[0]['description']}\")\n",
    "   f.close()\n",
    "else:\n",
    "   # showing the error message\n",
    "   print(\"Error in the HTTP request\")\n",
    "   "
   ]
  },
  {
   "cell_type": "code",
   "execution_count": 4,
   "metadata": {},
   "outputs": [
    {
     "name": "stdout",
     "output_type": "stream",
     "text": [
      "C:\\Users\\91950\n"
     ]
    }
   ],
   "source": [
    "import os\n",
    "print(os.getcwd())"
   ]
  },
  {
   "cell_type": "code",
   "execution_count": null,
   "metadata": {},
   "outputs": [],
   "source": []
  }
 ],
 "metadata": {
  "kernelspec": {
   "display_name": "Python 3",
   "language": "python",
   "name": "python3"
  },
  "language_info": {
   "codemirror_mode": {
    "name": "ipython",
    "version": 3
   },
   "file_extension": ".py",
   "mimetype": "text/x-python",
   "name": "python",
   "nbconvert_exporter": "python",
   "pygments_lexer": "ipython3",
   "version": "3.8.5"
  }
 },
 "nbformat": 4,
 "nbformat_minor": 4
}
